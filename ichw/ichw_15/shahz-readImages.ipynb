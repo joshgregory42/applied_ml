{
 "cells": [
  {
   "cell_type": "markdown",
   "id": "02b51c34",
   "metadata": {},
   "source": [
    "#### How to read images in a folder\n",
    "\n",
    "readImages.ipynb and trafficLightImages folder is being provided to help those who may need a little help in reading images from a file. There are many ways to read images and I am providing one example. The assumption is that the readImages.ipynb and trafficLightImages folder is in the same directory. Examine the directory structure of traffiLightImages folder. Also examine the images by clicking on them, just as you would clickin on any .jpg file."
   ]
  },
  {
   "cell_type": "code",
   "execution_count": 1,
   "id": "ea9896f9",
   "metadata": {},
   "outputs": [],
   "source": [
    "import random\n",
    "import glob\n",
    "import numpy as np\n",
    "import matplotlib.pyplot as plt\n",
    "import matplotlib.image as mpimg # for loading in images\n",
    "\n",
    "%matplotlib inline"
   ]
  },
  {
   "cell_type": "markdown",
   "id": "a1b25e18",
   "metadata": {},
   "source": [
    "#### Import images in a list from a file\n",
    "\n",
    "Notice the trafficLightImages/training/green has 4 files and we can verify the 4 file shave been read."
   ]
  },
  {
   "cell_type": "code",
   "execution_count": 2,
   "id": "9917f452",
   "metadata": {},
   "outputs": [
    {
     "name": "stdout",
     "output_type": "stream",
     "text": [
      "4\n"
     ]
    }
   ],
   "source": [
    "im_list_green=[]\n",
    "\n",
    "for file in glob.glob(\"trafficLightImages/training/green/*\"):\n",
    "    \n",
    "    # Read in the image\n",
    "    im = mpimg.imread(file)   \n",
    "            \n",
    "    # Append the image to the green image list\n",
    "    im_list_green.append(im)\n",
    "    \n",
    "print(len(im_list_green))"
   ]
  },
  {
   "cell_type": "markdown",
   "id": "2b652869",
   "metadata": {},
   "source": [
    "#### Explore the data\n",
    "\n",
    "Notice the image is 73X46X3 (the 3 is for RGB)\n",
    "We will also explore the shape to verify the dimensions"
   ]
  },
  {
   "cell_type": "code",
   "execution_count": 3,
   "id": "69667b69",
   "metadata": {},
   "outputs": [
    {
     "data": {
      "text/plain": [
       "<matplotlib.image.AxesImage at 0x7f7067ddeb30>"
      ]
     },
     "execution_count": 3,
     "metadata": {},
     "output_type": "execute_result"
    },
    {
     "data": {
      "image/png": "[encoded data removed]",
      "text/plain": [
       "<Figure size 640x480 with 1 Axes>"
      ]
     },
     "metadata": {},
     "output_type": "display_data"
    }
   ],
   "source": [
    "plt.imshow(im_list_green[0])"
   ]
  },
  {
   "cell_type": "code",
   "execution_count": 4,
   "id": "ffba0e1e",
   "metadata": {},
   "outputs": [
    {
     "name": "stdout",
     "output_type": "stream",
     "text": [
      "(73, 46, 3)\n",
      "73\n",
      "46\n",
      "3\n",
      "73 [[[112 106 106]\n",
      "  [112 106 106]\n",
      "  [116 110 110]\n",
      "  ...\n",
      "  [ 86  77  80]\n",
      "  [ 83  72  76]\n",
      "  [ 90  79  83]]\n",
      "\n",
      " [[109 103 103]\n",
      "  [111 105 105]\n",
      "  [116 110 110]\n",
      "  ...\n",
      "  [ 89  78  82]\n",
      "  [ 96  85  89]\n",
      "  [ 94  83  87]]\n",
      "\n",
      " [[111 107 106]\n",
      "  [112 108 107]\n",
      "  [114 110 109]\n",
      "  ...\n",
      "  [ 80  69  73]\n",
      "  [ 94  83  87]\n",
      "  [ 96  86  87]]\n",
      "\n",
      " ...\n",
      "\n",
      " [[ 96  79  72]\n",
      "  [ 96  79  72]\n",
      "  [ 96  79  72]\n",
      "  ...\n",
      "  [ 61  52  53]\n",
      "  [ 68  59  60]\n",
      "  [ 63  54  55]]\n",
      "\n",
      " [[ 97  80  72]\n",
      "  [ 97  80  72]\n",
      "  [ 97  80  72]\n",
      "  ...\n",
      "  [ 54  45  46]\n",
      "  [ 62  53  54]\n",
      "  [ 63  54  55]]\n",
      "\n",
      " [[ 98  81  73]\n",
      "  [ 97  80  72]\n",
      "  [ 97  80  72]\n",
      "  ...\n",
      "  [ 31  22  23]\n",
      "  [ 64  55  56]\n",
      "  [ 85  76  77]]]\n",
      "46 [[[118 125 133]\n",
      "  [115 122 130]\n",
      "  [115 122 130]\n",
      "  ...\n",
      "  [125 135 144]\n",
      "  [124 134 143]\n",
      "  [123 133 142]]\n",
      "\n",
      " [[111 118 128]\n",
      "  [112 119 127]\n",
      "  [117 124 132]\n",
      "  ...\n",
      "  [120 130 139]\n",
      "  [120 130 139]\n",
      "  [119 129 138]]\n",
      "\n",
      " [[111 118 128]\n",
      "  [106 113 123]\n",
      "  [105 112 122]\n",
      "  ...\n",
      "  [119 128 137]\n",
      "  [119 128 137]\n",
      "  [118 127 136]]\n",
      "\n",
      " ...\n",
      "\n",
      " [[151 165 176]\n",
      "  [151 165 176]\n",
      "  [159 173 184]\n",
      "  ...\n",
      "  [191 201 210]\n",
      "  [199 209 218]\n",
      "  [204 214 223]]\n",
      "\n",
      " [[175 189 200]\n",
      "  [176 190 201]\n",
      "  [182 196 207]\n",
      "  ...\n",
      "  [200 210 219]\n",
      "  [203 213 222]\n",
      "  [204 214 223]]\n",
      "\n",
      " [[186 200 211]\n",
      "  [186 200 211]\n",
      "  [191 205 216]\n",
      "  ...\n",
      "  [203 213 222]\n",
      "  [203 213 222]\n",
      "  [203 213 222]]]\n",
      "3 [[[218 218 220]\n",
      "  [218 219 221]\n",
      "  [218 219 221]\n",
      "  ...\n",
      "  [ 89  87  90]\n",
      "  [135 133 136]\n",
      "  [179 177 178]]\n",
      "\n",
      " [[215 215 217]\n",
      "  [216 217 219]\n",
      "  [217 218 220]\n",
      "  ...\n",
      "  [ 95  93  96]\n",
      "  [140 138 141]\n",
      "  [182 180 181]]\n",
      "\n",
      " [[216 216 218]\n",
      "  [216 217 219]\n",
      "  [217 218 220]\n",
      "  ...\n",
      "  [ 90  88  91]\n",
      "  [143 141 142]\n",
      "  [188 186 187]]\n",
      "\n",
      " ...\n",
      "\n",
      " [[179 164 109]\n",
      "  [185 170 115]\n",
      "  [185 170 115]\n",
      "  ...\n",
      "  [108 104 105]\n",
      "  [102  98  99]\n",
      "  [ 88  83  87]]\n",
      "\n",
      " [[171 154  98]\n",
      "  [180 163 107]\n",
      "  [184 167 111]\n",
      "  ...\n",
      "  [104 100 101]\n",
      "  [ 99  95  96]\n",
      "  [ 86  81  85]]\n",
      "\n",
      " [[150 131  73]\n",
      "  [161 142  84]\n",
      "  [171 152  94]\n",
      "  ...\n",
      "  [ 87  83  84]\n",
      "  [ 83  79  80]\n",
      "  [ 73  67  71]]]\n"
     ]
    }
   ],
   "source": [
    "print(im_list_green[0].shape)\n",
    "print(len(im_list_green[0]))\n",
    "print(len(im_list_green[0][1]))\n",
    "print(len(im_list_green[0][1][2]))\n",
    "print(\"73\", im_list_green[0])\n",
    "print(\"46\", im_list_green[1])\n",
    "print(\"3\", im_list_green[2])"
   ]
  },
  {
   "cell_type": "markdown",
   "id": "1843ae38",
   "metadata": {},
   "source": [
    "#### Preprocess the data\n",
    "Standardize the image to 32X32X3 and verify the dimesions of the standardized image. It is of utmost importance that all images are of the same dimensions for training and testing the model. "
   ]
  },
  {
   "cell_type": "code",
   "execution_count": 5,
   "id": "2dc0e25e",
   "metadata": {},
   "outputs": [],
   "source": [
    "# This function should take in an RGB image and return a new, standardized version\n",
    "def standardize_input(image):\n",
    "    image_crop = np.copy(image)\n",
    "    row_crop = 7\n",
    "    col_crop = 8\n",
    "    image_crop = image[row_crop:-row_crop, col_crop:-col_crop, :]\n",
    "    ## TODO: Resize image and pre-process so that all \"standard\" images are the same size\n",
    "    standard_im = cv2.resize(image_crop, (32, 32))\n",
    "    return standard_im"
   ]
  },
  {
   "cell_type": "code",
   "execution_count": 7,
   "id": "3cb25ece",
   "metadata": {},
   "outputs": [
    {
     "name": "stdout",
     "output_type": "stream",
     "text": [
      "Collecting opencv-python\n",
      "  Downloading opencv_python-4.8.1.78-cp37-abi3-manylinux_2_17_x86_64.manylinux2014_x86_64.whl (61.7 MB)\n",
      "\u001b[2K     \u001b[90m━━━━━━━━━━━━━━━━━━━━━━━━━━━━━━━━━━━━━━━━\u001b[0m \u001b[32m61.7/61.7 MB\u001b[0m \u001b[31m26.4 MB/s\u001b[0m eta \u001b[36m0:00:00\u001b[0m00:01\u001b[0m00:01\u001b[0m\n",
      "\u001b[?25hRequirement already satisfied: numpy>=1.21.2 in /opt/conda/lib/python3.10/site-packages (from opencv-python) (1.23.5)\n",
      "Installing collected packages: opencv-python\n",
      "Successfully installed opencv-python-4.8.1.78\n"
     ]
    }
   ],
   "source": [
    "!pip install opencv-python\n",
    "\n",
    "import cv2 # helper functions\n",
    "\n",
    "std_img = standardize_input(im_list_green[0])"
   ]
  },
  {
   "cell_type": "code",
   "execution_count": 8,
   "id": "cb562d49",
   "metadata": {},
   "outputs": [
    {
     "name": "stdout",
     "output_type": "stream",
     "text": [
      "(32, 32, 3)\n"
     ]
    },
    {
     "data": {
      "text/plain": [
       "<matplotlib.image.AxesImage at 0x7f705fb79f60>"
      ]
     },
     "execution_count": 8,
     "metadata": {},
     "output_type": "execute_result"
    },
    {
     "data": {
      "image/png": "[encoded data removed]",
      "text/plain": [
       "<Figure size 640x480 with 1 Axes>"
      ]
     },
     "metadata": {},
     "output_type": "display_data"
    }
   ],
   "source": [
    "print(std_img.shape)\n",
    "plt.imshow(std_img)"
   ]
  },
  {
   "cell_type": "markdown",
   "id": "a6f63b12",
   "metadata": {},
   "source": [
    "Please ask questions if something does not make sense. You are alomost ready to train the model, but not quite. Review model.fit usage. What is missing? "
   ]
  },
  {
   "cell_type": "markdown",
   "id": "d4e1bd96-5cf5-4a2d-a51f-229dc332df1b",
   "metadata": {},
   "source": [
    "Here is what is missing: \n",
    "\n",
    "1. Combining all the class images into one unified list\n",
    "2. Standardize the unified list (if not already standardized)\n",
    "3. Append the label (if the data is not labeled)\n",
    "4. Shuffle the list (random.suffle)\n",
    "5. Split into training and labels (for model.fit(X, y))\n",
    "6. Define model (use Fashion MNIST model)\n",
    "7. Compile the model (use Fashion MNIST model)\n",
    "8. Train the model (model.fit(training, labels))\n",
    "9. Testing the model with testing data\n",
    "10. Use the model to predict class of images never see before by the model       "
   ]
  }
 ],
 "metadata": {
  "kernelspec": {
   "display_name": "applied_ml",
   "language": "python",
   "name": "python3"
  },
  "language_info": {
   "codemirror_mode": {
    "name": "ipython",
    "version": 3
   },
   "file_extension": ".py",
   "mimetype": "text/x-python",
   "name": "python",
   "nbconvert_exporter": "python",
   "pygments_lexer": "ipython3",
   "version": "3.12.7"
  }
 },
 "nbformat": 4,
 "nbformat_minor": 5
}
