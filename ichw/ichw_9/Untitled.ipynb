{
 "cells": [
  {
   "cell_type": "code",
   "execution_count": 1,
   "id": "3f6aa3f7-3f1f-44ab-a7b3-0175e1eb1dfe",
   "metadata": {},
   "outputs": [],
   "source": [
    "import numpy as np"
   ]
  },
  {
   "cell_type": "code",
   "execution_count": 9,
   "id": "7ace9fed-c694-43ce-b6af-c24663bdb739",
   "metadata": {},
   "outputs": [
    {
     "data": {
      "text/plain": [
       "array([[0.86986229],\n",
       "       [1.02289462],\n",
       "       [1.04491427],\n",
       "       [1.17437996]])"
      ]
     },
     "execution_count": 9,
     "metadata": {},
     "output_type": "execute_result"
    }
   ],
   "source": [
    "import numpy as array\n",
    "\n",
    "step_2 = np.array([[0.00411497, 0.5188456], \n",
    "              [0.59182117, 0.69068968], \n",
    "              [0.63922712, 0.77427138], \n",
    "              [1.22693332, 0.94611547]])\n",
    "\n",
    "step_3 = np.array([[0.50102874, 0.62687779], \n",
    "              [0.6437829, 0.66612033], \n",
    "              [0.65457873, 0.68444415], \n",
    "              [0.77328138, 0.7203333]])\n",
    "\n",
    "w = np.array([[0.8849912], [0.68028612]])\n",
    "\n",
    "step_3@w"
   ]
  },
  {
   "cell_type": "code",
   "execution_count": null,
   "id": "2518f80d-0b13-4044-83d6-b025e481bd4e",
   "metadata": {},
   "outputs": [],
   "source": []
  }
 ],
 "metadata": {
  "kernelspec": {
   "display_name": "Python 3 (ipykernel)",
   "language": "python",
   "name": "python3"
  },
  "language_info": {
   "codemirror_mode": {
    "name": "ipython",
    "version": 3
   },
   "file_extension": ".py",
   "mimetype": "text/x-python",
   "name": "python",
   "nbconvert_exporter": "python",
   "pygments_lexer": "ipython3",
   "version": "3.10.8"
  }
 },
 "nbformat": 4,
 "nbformat_minor": 5
}
