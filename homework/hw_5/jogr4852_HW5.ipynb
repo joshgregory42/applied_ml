{
 "cells": [
  {
   "cell_type": "markdown",
   "id": "c33e1807-757d-4837-a0b1-b59af8d99402",
   "metadata": {},
   "source": [
    "# Homework 5: Applied Machine Learning\n",
    "\n",
    "Josh Gregory"
   ]
  },
  {
   "cell_type": "markdown",
   "id": "c85e7936-d583-4189-b32b-e0e2efff456a",
   "metadata": {},
   "source": [
    "## Canvas assignment instructions\n",
    "\n",
    "Survived is the class label, that is, whether the person survived (1) or not (0).\n",
    "\n",
    "The homework for HW 5, use the roadmap for building machine learning systems and the sklearn library, train a kNN algorithm and SVM algorithms.  For full credit, perfrom EDA steps and steps to build model in sklearn (step 1 - 6 cleary marked and annotated ) in your .ipynb. Produce learning curves ( accuracy v. number of training examples) for both algorithms and identify whether the learning curves exhibit variance and/or bias. Produce validation curves (accuracy v. hyperparameter) for both algorithms (SVM=C, kNN= # of neighbors) and identify optimal hyperparameters. Which algorithm of the two algorithms performs better?"
   ]
  },
  {
   "cell_type": "code",
   "execution_count": null,
   "id": "6e4c320c-e187-478f-9236-c0596724b22f",
   "metadata": {},
   "outputs": [],
   "source": []
  }
 ],
 "metadata": {
  "kernelspec": {
   "display_name": "Python 3 (ipykernel)",
   "language": "python",
   "name": "python3"
  },
  "language_info": {
   "codemirror_mode": {
    "name": "ipython",
    "version": 3
   },
   "file_extension": ".py",
   "mimetype": "text/x-python",
   "name": "python",
   "nbconvert_exporter": "python",
   "pygments_lexer": "ipython3",
   "version": "3.10.8"
  }
 },
 "nbformat": 4,
 "nbformat_minor": 5
}
