{
 "cells": [
  {
   "cell_type": "markdown",
   "metadata": {},
   "source": [
    "# Homework 8: Applied Machine Learning\n",
    "\n",
    "## TensorFlow Keras MLP\n",
    "\n",
    "Josh Gregory"
   ]
  },
  {
   "cell_type": "markdown",
   "metadata": {},
   "source": [
    "## Canvas assignment instructions\n",
    "\n",
    "For HW 8, use the TensorFlow Keras MLP Dense Layers (Fully connected neural netwrok, see ICHW 12).  For full credit annotated each cell  in your .ipynb as shown in ICHW 12. Make sure you include the accuracy v. epochs and loss v. epochs graphs.\n",
    "\n",
    "After you have completed HW 8 upload and submit your files.\n",
    "\n",
    "For notebook assignments, you will always turn in your .ipynb notebook file and an HTML file of the notebook.\n",
    "\n",
    "For HTML: Click File → Save and Export Notebook As → HTML to make a nice HTML of the notebook.\n",
    "\n",
    "For .ipynb: Click File → Download\n",
    "\n",
    "Turn in both the .ipynb and .html files in Canvas."
   ]
  },
  {
   "cell_type": "markdown",
   "metadata": {},
   "source": []
  }
 ],
 "metadata": {
  "language_info": {
   "name": "python"
  }
 },
 "nbformat": 4,
 "nbformat_minor": 2
}
