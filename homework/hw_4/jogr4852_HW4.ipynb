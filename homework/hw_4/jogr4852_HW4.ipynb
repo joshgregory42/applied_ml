{
 "cells": [
  {
   "cell_type": "markdown",
   "id": "52e51f15-c8db-40dd-bde6-eb2ad849368d",
   "metadata": {},
   "source": [
    "# INFO 5604: Homework 4: SVM\n",
    "Josh Gregory"
   ]
  },
  {
   "cell_type": "markdown",
   "id": "bf3d6257-df96-4d8b-b21f-5a049d6a1f3e",
   "metadata": {},
   "source": [
    "## Canvas Assignment Instructions\n",
    "\n",
    "**Step 1:** Download data files.\n",
    "\n",
    "**Step 2:** Go to https://coding.csel.ioLinks and select the \"\"INFO 4604/5604 Applied ML\" coding environment. \n",
    "\n",
    "**Step 3:** Upload the files, which you downloaded in Step 1, to JupyterLab, in the same folder.\n",
    "\n",
    "**Step 4:** Create a new .ipynb file named YourIdentikey_HW4.ipynb in JupyterLab. \n",
    "\n",
    "For HW 4, use the roadmap for building machine learning systems and the sklearn library, train a SVM algorithm (use both kernels: linear and rbf).  For full credit perfrom steps similar to ICHW 4 (SVM, step 1 - 6 cleary marked and annotated) in your .ipynb.\n",
    "\n",
    "Answer the following questions: How does the maximum margin better generalize the SVM algorithm?"
   ]
  },
  {
   "cell_type": "code",
   "execution_count": 1,
   "id": "c2a59f09-4298-41f5-bef6-ee2af264846b",
   "metadata": {},
   "outputs": [],
   "source": [
    "# Import libraries\n",
    "import numpy as np\n",
    "import pandas as pd\n",
    "import matplotlib.pyplot as plt\n",
    "import seaborn as sns\n",
    "import statsmodels.api as sm\n",
    "import scipy.stats as stats\n",
    "from sklearn.preprocessing import LabelEncoder\n",
    "import copy\n",
    "sns.set() "
   ]
  },
  {
   "cell_type": "markdown",
   "id": "02d7a394-8bbe-41d5-9305-0f693851b0d5",
   "metadata": {},
   "source": [
    "## EDA"
   ]
  },
  {
   "cell_type": "markdown",
   "id": "19f9a774-198d-4446-b5b8-01fcaf1e901f",
   "metadata": {},
   "source": [
    "### 1. Read in the data set and perform preliminary checks"
   ]
  },
  {
   "cell_type": "code",
   "execution_count": 2,
   "id": "4b75e6c9-f481-4321-87dc-66f8659a15e4",
   "metadata": {},
   "outputs": [
    {
     "name": "stdout",
     "output_type": "stream",
     "text": [
      "      label  1x1  1x2  1x3  1x4  1x5  1x6  1x7  1x8  1x9  ...  28x19  28x20  \\\n",
      "0         7    0    0    0    0    0    0    0    0    0  ...      0      0   \n",
      "1         2    0    0    0    0    0    0    0    0    0  ...      0      0   \n",
      "2         1    0    0    0    0    0    0    0    0    0  ...      0      0   \n",
      "3         0    0    0    0    0    0    0    0    0    0  ...      0      0   \n",
      "4         4    0    0    0    0    0    0    0    0    0  ...      0      0   \n",
      "...     ...  ...  ...  ...  ...  ...  ...  ...  ...  ...  ...    ...    ...   \n",
      "8031      2    0    0    0    0    0    0    0    0    0  ...      0      0   \n",
      "8032      3    0    0    0    0    0    0    0    0    0  ...      0      0   \n",
      "8033      4    0    0    0    0    0    0    0    0    0  ...      0      0   \n",
      "8034      5    0    0    0    0    0    0    0    0    0  ...      0      0   \n",
      "8035      5    0    0    0    0    0    0    0    0    0  ...      0      0   \n",
      "\n",
      "      28x21  28x22  28x23  28x24  28x25  28x26  28x27  28x28  \n",
      "0         0      0      0      0      0      0      0      0  \n",
      "1         0      0      0      0      0      0      0      0  \n",
      "2         0      0      0      0      0      0      0      0  \n",
      "3         0      0      0      0      0      0      0      0  \n",
      "4         0      0      0      0      0      0      0      0  \n",
      "...     ...    ...    ...    ...    ...    ...    ...    ...  \n",
      "8031      0      0      0      0      0      0      0      0  \n",
      "8032      0      0      0      0      0      0      0      0  \n",
      "8033      0      0      0      0      0      0      0      0  \n",
      "8034      0      0      0      0      0      0      0      0  \n",
      "8035      0      0      0      0      0      0      0      0  \n",
      "\n",
      "[8036 rows x 785 columns]\n"
     ]
    }
   ],
   "source": [
    "digits = pd.read_csv('digits_8K.csv')\n",
    "\n",
    "print(digits)"
   ]
  },
  {
   "cell_type": "code",
   "execution_count": 3,
   "id": "f41dcf16-2ad1-4219-b1f9-047cd78f0244",
   "metadata": {
    "jupyter": {
     "source_hidden": true
    },
    "tags": []
   },
   "outputs": [
    {
     "name": "stdout",
     "output_type": "stream",
     "text": [
      "[7 2 1 0 4 9 5 6 3 8]\n",
      "10\n",
      "1    909\n",
      "2    837\n",
      "9    823\n",
      "7    816\n",
      "3    807\n",
      "4    791\n",
      "8    791\n",
      "0    778\n",
      "6    759\n",
      "5    725\n",
      "Name: label, dtype: int64\n",
      "<class 'pandas.core.frame.DataFrame'>\n",
      "RangeIndex: 8036 entries, 0 to 8035\n",
      "Columns: 785 entries, label to 28x28\n",
      "dtypes: int64(785)\n",
      "memory usage: 48.1 MB\n",
      "None\n"
     ]
    }
   ],
   "source": [
    "classes = pd.unique(digits['label'])\n",
    "num_classes = len(classes)\n",
    "each_class = digits['label'].value_counts()\n",
    "\n",
    "print(classes)\n",
    "print(num_classes)\n",
    "print(each_class)\n",
    "\n",
    "print(digits.info())"
   ]
  },
  {
   "cell_type": "code",
   "execution_count": 4,
   "id": "2db3b0d1-e4ed-4ff0-a846-5198db3fcf76",
   "metadata": {},
   "outputs": [
    {
     "name": "stdout",
     "output_type": "stream",
     "text": [
      "Total samples: 8036\n"
     ]
    }
   ],
   "source": [
    "print(f'Total samples: {909+837+823+816+807+791+791+778+759+725}')"
   ]
  },
  {
   "cell_type": "markdown",
   "id": "d681f244-a29a-4d42-b5f1-9bf6470a47ff",
   "metadata": {
    "jupyter": {
     "source_hidden": true
    },
    "tags": []
   },
   "source": [
    "### Answers to questions\n",
    "\n",
    "**What are the names of the features?**\n",
    "Since we're dealing with digits, the features don't really have names. We're instead given an array of pixels that range in intensity of 0-255.\n",
    "\n",
    "**What are the types of fetures?**\n",
    "Each pixel value is continuous from 0-255.\n",
    "\n",
    "**How many samples do we have?**\n",
    "There are 8036 total samples\n",
    "    \n",
    "**How many features do we have?**\n",
    "Since each digit is an array that is 28x28, there are 28x28=784 total features.\n",
    "\n",
    "**What are the classes?**\n",
    "The classes are the digits from 0-9.\n",
    "\n",
    "**How many classes do we have?**\n",
    "10, digits from 0-9.\n",
    "    \n",
    "    \n",
    "**How many samples of each class? are they balanced?**\n",
    "0    778\n",
    "1    909\n",
    "2    837\n",
    "3    807\n",
    "4    791\n",
    "5    725\n",
    "6    759\n",
    "7    816\n",
    "8    791\n",
    "9    823\n",
    "\n",
    "\n",
    "Because some classes have more than others (i.e. the label of 1 has more than 0), these classes are not balanced."
   ]
  },
  {
   "cell_type": "markdown",
   "id": "20ccc8cc-e684-4818-b060-231a1c49eddd",
   "metadata": {},
   "source": [
    "### 2. Check missing values, outliers and statistics"
   ]
  },
  {
   "cell_type": "code",
   "execution_count": 5,
   "id": "2a34e25c-d220-476d-b4af-857012b53acb",
   "metadata": {},
   "outputs": [
    {
     "data": {
      "text/html": [
       "<div>\n",
       "<style scoped>\n",
       "    .dataframe tbody tr th:only-of-type {\n",
       "        vertical-align: middle;\n",
       "    }\n",
       "\n",
       "    .dataframe tbody tr th {\n",
       "        vertical-align: top;\n",
       "    }\n",
       "\n",
       "    .dataframe thead th {\n",
       "        text-align: right;\n",
       "    }\n",
       "</style>\n",
       "<table border=\"1\" class=\"dataframe\">\n",
       "  <thead>\n",
       "    <tr style=\"text-align: right;\">\n",
       "      <th></th>\n",
       "      <th>label</th>\n",
       "      <th>1x1</th>\n",
       "      <th>1x2</th>\n",
       "      <th>1x3</th>\n",
       "      <th>1x4</th>\n",
       "      <th>1x5</th>\n",
       "      <th>1x6</th>\n",
       "      <th>1x7</th>\n",
       "      <th>1x8</th>\n",
       "      <th>1x9</th>\n",
       "      <th>...</th>\n",
       "      <th>28x19</th>\n",
       "      <th>28x20</th>\n",
       "      <th>28x21</th>\n",
       "      <th>28x22</th>\n",
       "      <th>28x23</th>\n",
       "      <th>28x24</th>\n",
       "      <th>28x25</th>\n",
       "      <th>28x26</th>\n",
       "      <th>28x27</th>\n",
       "      <th>28x28</th>\n",
       "    </tr>\n",
       "  </thead>\n",
       "  <tbody>\n",
       "    <tr>\n",
       "      <th>False</th>\n",
       "      <td>8036</td>\n",
       "      <td>8036</td>\n",
       "      <td>8036</td>\n",
       "      <td>8036</td>\n",
       "      <td>8036</td>\n",
       "      <td>8036</td>\n",
       "      <td>8036</td>\n",
       "      <td>8036</td>\n",
       "      <td>8036</td>\n",
       "      <td>8036</td>\n",
       "      <td>...</td>\n",
       "      <td>8036</td>\n",
       "      <td>8036</td>\n",
       "      <td>8036</td>\n",
       "      <td>8036</td>\n",
       "      <td>8036</td>\n",
       "      <td>8036</td>\n",
       "      <td>8036</td>\n",
       "      <td>8036</td>\n",
       "      <td>8036</td>\n",
       "      <td>8036</td>\n",
       "    </tr>\n",
       "  </tbody>\n",
       "</table>\n",
       "<p>1 rows × 785 columns</p>\n",
       "</div>"
      ],
      "text/plain": [
       "       label   1x1   1x2   1x3   1x4   1x5   1x6   1x7   1x8   1x9  ...  \\\n",
       "False   8036  8036  8036  8036  8036  8036  8036  8036  8036  8036  ...   \n",
       "\n",
       "       28x19  28x20  28x21  28x22  28x23  28x24  28x25  28x26  28x27  28x28  \n",
       "False   8036   8036   8036   8036   8036   8036   8036   8036   8036   8036  \n",
       "\n",
       "[1 rows x 785 columns]"
      ]
     },
     "execution_count": 5,
     "metadata": {},
     "output_type": "execute_result"
    }
   ],
   "source": [
    "digits.isna().apply(pd.value_counts)"
   ]
  },
  {
   "cell_type": "markdown",
   "id": "826bba72-0c20-4af7-a774-cb1bf429b8bc",
   "metadata": {},
   "source": [
    "### Answers to questions\n",
    "\n",
    "**Are there any missing values?**\n",
    "No. Since the previous line returned `False`, there are no values that are missing. Therefore, nothing needs to be done. To get rid of outliers.\n",
    "\n",
    "**Are there anomolies in the statistics?**\n",
    "No. Each pixel can range from 0-255, so there aren't any anomolies. We can also see this from the next cell below.\n",
    "\n",
    "**Are there outliers?**\n",
    "No. Each pixel can range from 0-255, so there can't be any outliers.\n",
    "\n",
    "**Note**: I didn't make a boxplot since there would be 784 boxplots, which is a bit excessive and doesn't really show us anything helpful."
   ]
  },
  {
   "cell_type": "code",
   "execution_count": 6,
   "id": "ccfaabef-963e-49e4-83d1-70e8d1426c61",
   "metadata": {},
   "outputs": [
    {
     "data": {
      "text/html": [
       "<div>\n",
       "<style scoped>\n",
       "    .dataframe tbody tr th:only-of-type {\n",
       "        vertical-align: middle;\n",
       "    }\n",
       "\n",
       "    .dataframe tbody tr th {\n",
       "        vertical-align: top;\n",
       "    }\n",
       "\n",
       "    .dataframe thead th {\n",
       "        text-align: right;\n",
       "    }\n",
       "</style>\n",
       "<table border=\"1\" class=\"dataframe\">\n",
       "  <thead>\n",
       "    <tr style=\"text-align: right;\">\n",
       "      <th></th>\n",
       "      <th>count</th>\n",
       "      <th>mean</th>\n",
       "      <th>std</th>\n",
       "      <th>min</th>\n",
       "      <th>25%</th>\n",
       "      <th>50%</th>\n",
       "      <th>75%</th>\n",
       "      <th>max</th>\n",
       "    </tr>\n",
       "  </thead>\n",
       "  <tbody>\n",
       "    <tr>\n",
       "      <th>label</th>\n",
       "      <td>8036.0</td>\n",
       "      <td>4.454206</td>\n",
       "      <td>2.897591</td>\n",
       "      <td>0.0</td>\n",
       "      <td>2.0</td>\n",
       "      <td>4.0</td>\n",
       "      <td>7.0</td>\n",
       "      <td>9.0</td>\n",
       "    </tr>\n",
       "    <tr>\n",
       "      <th>1x1</th>\n",
       "      <td>8036.0</td>\n",
       "      <td>0.000000</td>\n",
       "      <td>0.000000</td>\n",
       "      <td>0.0</td>\n",
       "      <td>0.0</td>\n",
       "      <td>0.0</td>\n",
       "      <td>0.0</td>\n",
       "      <td>0.0</td>\n",
       "    </tr>\n",
       "    <tr>\n",
       "      <th>1x2</th>\n",
       "      <td>8036.0</td>\n",
       "      <td>0.000000</td>\n",
       "      <td>0.000000</td>\n",
       "      <td>0.0</td>\n",
       "      <td>0.0</td>\n",
       "      <td>0.0</td>\n",
       "      <td>0.0</td>\n",
       "      <td>0.0</td>\n",
       "    </tr>\n",
       "    <tr>\n",
       "      <th>1x3</th>\n",
       "      <td>8036.0</td>\n",
       "      <td>0.000000</td>\n",
       "      <td>0.000000</td>\n",
       "      <td>0.0</td>\n",
       "      <td>0.0</td>\n",
       "      <td>0.0</td>\n",
       "      <td>0.0</td>\n",
       "      <td>0.0</td>\n",
       "    </tr>\n",
       "    <tr>\n",
       "      <th>1x4</th>\n",
       "      <td>8036.0</td>\n",
       "      <td>0.000000</td>\n",
       "      <td>0.000000</td>\n",
       "      <td>0.0</td>\n",
       "      <td>0.0</td>\n",
       "      <td>0.0</td>\n",
       "      <td>0.0</td>\n",
       "      <td>0.0</td>\n",
       "    </tr>\n",
       "    <tr>\n",
       "      <th>...</th>\n",
       "      <td>...</td>\n",
       "      <td>...</td>\n",
       "      <td>...</td>\n",
       "      <td>...</td>\n",
       "      <td>...</td>\n",
       "      <td>...</td>\n",
       "      <td>...</td>\n",
       "      <td>...</td>\n",
       "    </tr>\n",
       "    <tr>\n",
       "      <th>28x24</th>\n",
       "      <td>8036.0</td>\n",
       "      <td>0.000000</td>\n",
       "      <td>0.000000</td>\n",
       "      <td>0.0</td>\n",
       "      <td>0.0</td>\n",
       "      <td>0.0</td>\n",
       "      <td>0.0</td>\n",
       "      <td>0.0</td>\n",
       "    </tr>\n",
       "    <tr>\n",
       "      <th>28x25</th>\n",
       "      <td>8036.0</td>\n",
       "      <td>0.000000</td>\n",
       "      <td>0.000000</td>\n",
       "      <td>0.0</td>\n",
       "      <td>0.0</td>\n",
       "      <td>0.0</td>\n",
       "      <td>0.0</td>\n",
       "      <td>0.0</td>\n",
       "    </tr>\n",
       "    <tr>\n",
       "      <th>28x26</th>\n",
       "      <td>8036.0</td>\n",
       "      <td>0.000000</td>\n",
       "      <td>0.000000</td>\n",
       "      <td>0.0</td>\n",
       "      <td>0.0</td>\n",
       "      <td>0.0</td>\n",
       "      <td>0.0</td>\n",
       "      <td>0.0</td>\n",
       "    </tr>\n",
       "    <tr>\n",
       "      <th>28x27</th>\n",
       "      <td>8036.0</td>\n",
       "      <td>0.000000</td>\n",
       "      <td>0.000000</td>\n",
       "      <td>0.0</td>\n",
       "      <td>0.0</td>\n",
       "      <td>0.0</td>\n",
       "      <td>0.0</td>\n",
       "      <td>0.0</td>\n",
       "    </tr>\n",
       "    <tr>\n",
       "      <th>28x28</th>\n",
       "      <td>8036.0</td>\n",
       "      <td>0.000000</td>\n",
       "      <td>0.000000</td>\n",
       "      <td>0.0</td>\n",
       "      <td>0.0</td>\n",
       "      <td>0.0</td>\n",
       "      <td>0.0</td>\n",
       "      <td>0.0</td>\n",
       "    </tr>\n",
       "  </tbody>\n",
       "</table>\n",
       "<p>785 rows × 8 columns</p>\n",
       "</div>"
      ],
      "text/plain": [
       "        count      mean       std  min  25%  50%  75%  max\n",
       "label  8036.0  4.454206  2.897591  0.0  2.0  4.0  7.0  9.0\n",
       "1x1    8036.0  0.000000  0.000000  0.0  0.0  0.0  0.0  0.0\n",
       "1x2    8036.0  0.000000  0.000000  0.0  0.0  0.0  0.0  0.0\n",
       "1x3    8036.0  0.000000  0.000000  0.0  0.0  0.0  0.0  0.0\n",
       "1x4    8036.0  0.000000  0.000000  0.0  0.0  0.0  0.0  0.0\n",
       "...       ...       ...       ...  ...  ...  ...  ...  ...\n",
       "28x24  8036.0  0.000000  0.000000  0.0  0.0  0.0  0.0  0.0\n",
       "28x25  8036.0  0.000000  0.000000  0.0  0.0  0.0  0.0  0.0\n",
       "28x26  8036.0  0.000000  0.000000  0.0  0.0  0.0  0.0  0.0\n",
       "28x27  8036.0  0.000000  0.000000  0.0  0.0  0.0  0.0  0.0\n",
       "28x28  8036.0  0.000000  0.000000  0.0  0.0  0.0  0.0  0.0\n",
       "\n",
       "[785 rows x 8 columns]"
      ]
     },
     "execution_count": 6,
     "metadata": {},
     "output_type": "execute_result"
    }
   ],
   "source": [
    "digits.describe().T"
   ]
  },
  {
   "cell_type": "markdown",
   "id": "1dedcde0-04d9-47f2-8d1f-8dae21ff1a2a",
   "metadata": {},
   "source": [
    "### 3. Check distributions and coorelations\n",
    "\n",
    "It doesn't really make sense to do this step, since digits are only going to be correlated with the same digit.\n",
    "\n",
    "On top of that, when trying to run the `sns.pairplot` and `sns.heatmap` commands, the notebook doesn't have enough computing resources."
   ]
  },
  {
   "cell_type": "markdown",
   "id": "c1b0e7cf-ac9a-422a-a498-ee71af8172bb",
   "metadata": {},
   "source": [
    "## SVM Implementation\n",
    "\n",
    "1. Read in the digits into feature and target/label arrays"
   ]
  },
  {
   "cell_type": "code",
   "execution_count": 7,
   "id": "e363e514-1c64-48ac-a9d5-78a8bdd2313d",
   "metadata": {},
   "outputs": [
    {
     "name": "stdout",
     "output_type": "stream",
     "text": [
      "      label  1x1  1x2  1x3  1x4  1x5  1x6  1x7  1x8  1x9  ...  28x19  28x20  \\\n",
      "0         7    0    0    0    0    0    0    0    0    0  ...      0      0   \n",
      "1         2    0    0    0    0    0    0    0    0    0  ...      0      0   \n",
      "2         1    0    0    0    0    0    0    0    0    0  ...      0      0   \n",
      "3         0    0    0    0    0    0    0    0    0    0  ...      0      0   \n",
      "4         4    0    0    0    0    0    0    0    0    0  ...      0      0   \n",
      "...     ...  ...  ...  ...  ...  ...  ...  ...  ...  ...  ...    ...    ...   \n",
      "8031      2    0    0    0    0    0    0    0    0    0  ...      0      0   \n",
      "8032      3    0    0    0    0    0    0    0    0    0  ...      0      0   \n",
      "8033      4    0    0    0    0    0    0    0    0    0  ...      0      0   \n",
      "8034      5    0    0    0    0    0    0    0    0    0  ...      0      0   \n",
      "8035      5    0    0    0    0    0    0    0    0    0  ...      0      0   \n",
      "\n",
      "      28x21  28x22  28x23  28x24  28x25  28x26  28x27  28x28  \n",
      "0         0      0      0      0      0      0      0      0  \n",
      "1         0      0      0      0      0      0      0      0  \n",
      "2         0      0      0      0      0      0      0      0  \n",
      "3         0      0      0      0      0      0      0      0  \n",
      "4         0      0      0      0      0      0      0      0  \n",
      "...     ...    ...    ...    ...    ...    ...    ...    ...  \n",
      "8031      0      0      0      0      0      0      0      0  \n",
      "8032      0      0      0      0      0      0      0      0  \n",
      "8033      0      0      0      0      0      0      0      0  \n",
      "8034      0      0      0      0      0      0      0      0  \n",
      "8035      0      0      0      0      0      0      0      0  \n",
      "\n",
      "[8036 rows x 785 columns]\n",
      "      1x1  1x2  1x3  1x4  1x5  1x6  1x7  1x8  1x9  1x10  ...  28x19  28x20  \\\n",
      "0       0    0    0    0    0    0    0    0    0     0  ...      0      0   \n",
      "1       0    0    0    0    0    0    0    0    0     0  ...      0      0   \n",
      "2       0    0    0    0    0    0    0    0    0     0  ...      0      0   \n",
      "3       0    0    0    0    0    0    0    0    0     0  ...      0      0   \n",
      "4       0    0    0    0    0    0    0    0    0     0  ...      0      0   \n",
      "...   ...  ...  ...  ...  ...  ...  ...  ...  ...   ...  ...    ...    ...   \n",
      "8031    0    0    0    0    0    0    0    0    0     0  ...      0      0   \n",
      "8032    0    0    0    0    0    0    0    0    0     0  ...      0      0   \n",
      "8033    0    0    0    0    0    0    0    0    0     0  ...      0      0   \n",
      "8034    0    0    0    0    0    0    0    0    0     0  ...      0      0   \n",
      "8035    0    0    0    0    0    0    0    0    0     0  ...      0      0   \n",
      "\n",
      "      28x21  28x22  28x23  28x24  28x25  28x26  28x27  28x28  \n",
      "0         0      0      0      0      0      0      0      0  \n",
      "1         0      0      0      0      0      0      0      0  \n",
      "2         0      0      0      0      0      0      0      0  \n",
      "3         0      0      0      0      0      0      0      0  \n",
      "4         0      0      0      0      0      0      0      0  \n",
      "...     ...    ...    ...    ...    ...    ...    ...    ...  \n",
      "8031      0      0      0      0      0      0      0      0  \n",
      "8032      0      0      0      0      0      0      0      0  \n",
      "8033      0      0      0      0      0      0      0      0  \n",
      "8034      0      0      0      0      0      0      0      0  \n",
      "8035      0      0      0      0      0      0      0      0  \n",
      "\n",
      "[8036 rows x 784 columns]\n",
      "0       7\n",
      "1       2\n",
      "2       1\n",
      "3       0\n",
      "4       4\n",
      "       ..\n",
      "8031    2\n",
      "8032    3\n",
      "8033    4\n",
      "8034    5\n",
      "8035    5\n",
      "Name: label, Length: 8036, dtype: int64\n"
     ]
    }
   ],
   "source": [
    "X = digits.iloc[:, 1:785]\n",
    "y = digits.iloc[:, 0]\n",
    "\n",
    "print(digits)\n",
    "print(X)\n",
    "print(y)"
   ]
  },
  {
   "cell_type": "code",
   "execution_count": 8,
   "id": "84e87440-5c62-43f4-bf38-f039fe7e7cb2",
   "metadata": {},
   "outputs": [],
   "source": [
    "from sklearn.model_selection import train_test_split\n",
    "\n",
    "X_train, X_test, y_train, y_test = train_test_split(X, y,\n",
    "                            test_size=0.2, random_state=30, stratify=y)"
   ]
  },
  {
   "cell_type": "code",
   "execution_count": 9,
   "id": "4b73dbff-dbd3-477f-b752-eef9bffb6df6",
   "metadata": {},
   "outputs": [
    {
     "name": "stdout",
     "output_type": "stream",
     "text": [
      "      1x1  1x2  1x3  1x4  1x5  1x6  1x7  1x8  1x9  1x10  ...  28x19  28x20  \\\n",
      "2665    0    0    0    0    0    0    0    0    0     0  ...      0      0   \n",
      "7531    0    0    0    0    0    0    0    0    0     0  ...      0      0   \n",
      "3424    0    0    0    0    0    0    0    0    0     0  ...      0      0   \n",
      "4612    0    0    0    0    0    0    0    0    0     0  ...      0      0   \n",
      "7646    0    0    0    0    0    0    0    0    0     0  ...      0      0   \n",
      "...   ...  ...  ...  ...  ...  ...  ...  ...  ...   ...  ...    ...    ...   \n",
      "3432    0    0    0    0    0    0    0    0    0     0  ...      0      0   \n",
      "6725    0    0    0    0    0    0    0    0    0     0  ...      0      0   \n",
      "2877    0    0    0    0    0    0    0    0    0     0  ...      0      0   \n",
      "7183    0    0    0    0    0    0    0    0    0     0  ...      0      0   \n",
      "6903    0    0    0    0    0    0    0    0    0     0  ...      0      0   \n",
      "\n",
      "      28x21  28x22  28x23  28x24  28x25  28x26  28x27  28x28  \n",
      "2665      0      0      0      0      0      0      0      0  \n",
      "7531      0      0      0      0      0      0      0      0  \n",
      "3424      0      0      0      0      0      0      0      0  \n",
      "4612      0      0      0      0      0      0      0      0  \n",
      "7646      0      0      0      0      0      0      0      0  \n",
      "...     ...    ...    ...    ...    ...    ...    ...    ...  \n",
      "3432      0      0      0      0      0      0      0      0  \n",
      "6725      0      0      0      0      0      0      0      0  \n",
      "2877      0      0      0      0      0      0      0      0  \n",
      "7183      0      0      0      0      0      0      0      0  \n",
      "6903      0      0      0      0      0      0      0      0  \n",
      "\n",
      "[6428 rows x 784 columns]\n",
      "2665    7\n",
      "7531    5\n",
      "3424    6\n",
      "4612    7\n",
      "7646    0\n",
      "       ..\n",
      "3432    3\n",
      "6725    8\n",
      "2877    4\n",
      "7183    1\n",
      "6903    9\n",
      "Name: label, Length: 6428, dtype: int64\n"
     ]
    }
   ],
   "source": [
    "# Check the digits DataFrame\n",
    "\n",
    "print(X_train)\n",
    "print(y_train)"
   ]
  },
  {
   "cell_type": "code",
   "execution_count": 10,
   "id": "c5ebd2f6-8716-4b66-af46-3e53b6595bda",
   "metadata": {},
   "outputs": [
    {
     "data": {
      "image/png": "[encoded data removed]",
      "text/plain": [
       "<Figure size 640x480 with 1 Axes>"
      ]
     },
     "metadata": {},
     "output_type": "display_data"
    },
    {
     "data": {
      "image/png": "[encoded data removed]",
      "text/plain": [
       "<Figure size 640x480 with 1 Axes>"
      ]
     },
     "metadata": {},
     "output_type": "display_data"
    },
    {
     "data": {
      "image/png": "[encoded data removed]",
      "text/plain": [
       "<Figure size 640x480 with 1 Axes>"
      ]
     },
     "metadata": {},
     "output_type": "display_data"
    },
    {
     "data": {
      "image/png": "[encoded data removed]",
      "text/plain": [
       "<Figure size 640x480 with 1 Axes>"
      ]
     },
     "metadata": {},
     "output_type": "display_data"
    },
    {
     "data": {
      "image/png": "[encoded data removed]",
      "text/plain": [
       "<Figure size 640x480 with 1 Axes>"
      ]
     },
     "metadata": {},
     "output_type": "display_data"
    },
    {
     "data": {
      "image/png": "[encoded data removed]",
      "text/plain": [
       "<Figure size 640x480 with 1 Axes>"
      ]
     },
     "metadata": {},
     "output_type": "display_data"
    }
   ],
   "source": [
    "# Check a few digits to make sure they're coming out correctly\n",
    "\n",
    "for i in (np.random.randint(0,270,6)):\n",
    "    two_d = (np.reshape(X_test.values[i], (28, 28)) * 255).astype(np.uint8)\n",
    "    plt.title('digit: {0}'. format(y_test.values[i]))\n",
    "    plt.imshow(two_d, interpolation='nearest', cmap='gray')\n",
    "    plt.show()"
   ]
  },
  {
   "cell_type": "code",
   "execution_count": 11,
   "id": "b522675d-4d70-4b2e-b82b-ae4e2ca464c2",
   "metadata": {},
   "outputs": [
    {
     "name": "stdout",
     "output_type": "stream",
     "text": [
      "1    909\n",
      "2    837\n",
      "9    823\n",
      "7    816\n",
      "3    807\n",
      "4    791\n",
      "8    791\n",
      "0    778\n",
      "6    759\n",
      "5    725\n",
      "Name: label, dtype: int64\n"
     ]
    }
   ],
   "source": [
    "print(digits['label'].value_counts())"
   ]
  },
  {
   "cell_type": "code",
   "execution_count": 12,
   "id": "15e820bd-f8f3-464b-bc15-dd8ff22101c4",
   "metadata": {},
   "outputs": [
    {
     "name": "stderr",
     "output_type": "stream",
     "text": [
      "/tmp/ipykernel_494/2691270319.py:4: FutureWarning: The behavior of `series[i:j]` with an integer-dtype index is deprecated. In a future version, this will be treated as *label-based* indexing, consistent with e.g. `series[i]` lookups. To retain the old behavior, use `series.iloc[i:j]`. To get the future behavior, use `series.loc[i:j]`.\n",
      "  digit_count = digit_count[:10,]\n"
     ]
    },
    {
     "data": {
      "image/png": "[encoded data removed]",
      "text/plain": [
       "<Figure size 1000x500 with 1 Axes>"
      ]
     },
     "metadata": {},
     "output_type": "display_data"
    }
   ],
   "source": [
    "import seaborn as sns\n",
    "\n",
    "digit_count  = digits['label'].value_counts()\n",
    "digit_count = digit_count[:10,]\n",
    "plt.figure(figsize=(10,5))\n",
    "sns.barplot(x= digit_count.index, y=digit_count.values, alpha=0.8)\n",
    "plt.title('SVM')\n",
    "plt.ylabel('Number of Occurrences', fontsize=12)\n",
    "plt.xlabel('Digits 0 - 9 ', fontsize=12)\n",
    "plt.show()"
   ]
  },
  {
   "cell_type": "markdown",
   "id": "807e99a1-0388-4f2d-a31a-871d65e4ae99",
   "metadata": {},
   "source": [
    "### SVC(kernel='linear')\n",
    "\n",
    "2. Select model and its parameters:"
   ]
  },
  {
   "cell_type": "code",
   "execution_count": 13,
   "id": "6af773fe-611f-45d5-934c-997e988758cc",
   "metadata": {},
   "outputs": [],
   "source": [
    "from sklearn.svm import SVC\n",
    "model = SVC(kernel='linear', C=1E10)"
   ]
  },
  {
   "cell_type": "markdown",
   "id": "44905f58-70ce-4fb9-8e3b-410e95765d25",
   "metadata": {},
   "source": [
    "3. Build the model (.fit):"
   ]
  },
  {
   "cell_type": "code",
   "execution_count": 14,
   "id": "d2889964-b01d-4cbe-9944-469b187afc7b",
   "metadata": {},
   "outputs": [
    {
     "data": {
      "text/html": [
       "<style>#sk-container-id-1 {color: black;background-color: white;}#sk-container-id-1 pre{padding: 0;}#sk-container-id-1 div.sk-toggleable {background-color: white;}#sk-container-id-1 label.sk-toggleable__label {cursor: pointer;display: block;width: 100%;margin-bottom: 0;padding: 0.3em;box-sizing: border-box;text-align: center;}#sk-container-id-1 label.sk-toggleable__label-arrow:before {content: \"▸\";float: left;margin-right: 0.25em;color: #696969;}#sk-container-id-1 label.sk-toggleable__label-arrow:hover:before {color: black;}#sk-container-id-1 div.sk-estimator:hover label.sk-toggleable__label-arrow:before {color: black;}#sk-container-id-1 div.sk-toggleable__content {max-height: 0;max-width: 0;overflow: hidden;text-align: left;background-color: #f0f8ff;}#sk-container-id-1 div.sk-toggleable__content pre {margin: 0.2em;color: black;border-radius: 0.25em;background-color: #f0f8ff;}#sk-container-id-1 input.sk-toggleable__control:checked~div.sk-toggleable__content {max-height: 200px;max-width: 100%;overflow: auto;}#sk-container-id-1 input.sk-toggleable__control:checked~label.sk-toggleable__label-arrow:before {content: \"▾\";}#sk-container-id-1 div.sk-estimator input.sk-toggleable__control:checked~label.sk-toggleable__label {background-color: #d4ebff;}#sk-container-id-1 div.sk-label input.sk-toggleable__control:checked~label.sk-toggleable__label {background-color: #d4ebff;}#sk-container-id-1 input.sk-hidden--visually {border: 0;clip: rect(1px 1px 1px 1px);clip: rect(1px, 1px, 1px, 1px);height: 1px;margin: -1px;overflow: hidden;padding: 0;position: absolute;width: 1px;}#sk-container-id-1 div.sk-estimator {font-family: monospace;background-color: #f0f8ff;border: 1px dotted black;border-radius: 0.25em;box-sizing: border-box;margin-bottom: 0.5em;}#sk-container-id-1 div.sk-estimator:hover {background-color: #d4ebff;}#sk-container-id-1 div.sk-parallel-item::after {content: \"\";width: 100%;border-bottom: 1px solid gray;flex-grow: 1;}#sk-container-id-1 div.sk-label:hover label.sk-toggleable__label {background-color: #d4ebff;}#sk-container-id-1 div.sk-serial::before {content: \"\";position: absolute;border-left: 1px solid gray;box-sizing: border-box;top: 0;bottom: 0;left: 50%;z-index: 0;}#sk-container-id-1 div.sk-serial {display: flex;flex-direction: column;align-items: center;background-color: white;padding-right: 0.2em;padding-left: 0.2em;position: relative;}#sk-container-id-1 div.sk-item {position: relative;z-index: 1;}#sk-container-id-1 div.sk-parallel {display: flex;align-items: stretch;justify-content: center;background-color: white;position: relative;}#sk-container-id-1 div.sk-item::before, #sk-container-id-1 div.sk-parallel-item::before {content: \"\";position: absolute;border-left: 1px solid gray;box-sizing: border-box;top: 0;bottom: 0;left: 50%;z-index: -1;}#sk-container-id-1 div.sk-parallel-item {display: flex;flex-direction: column;z-index: 1;position: relative;background-color: white;}#sk-container-id-1 div.sk-parallel-item:first-child::after {align-self: flex-end;width: 50%;}#sk-container-id-1 div.sk-parallel-item:last-child::after {align-self: flex-start;width: 50%;}#sk-container-id-1 div.sk-parallel-item:only-child::after {width: 0;}#sk-container-id-1 div.sk-dashed-wrapped {border: 1px dashed gray;margin: 0 0.4em 0.5em 0.4em;box-sizing: border-box;padding-bottom: 0.4em;background-color: white;}#sk-container-id-1 div.sk-label label {font-family: monospace;font-weight: bold;display: inline-block;line-height: 1.2em;}#sk-container-id-1 div.sk-label-container {text-align: center;}#sk-container-id-1 div.sk-container {/* jupyter's `normalize.less` sets `[hidden] { display: none; }` but bootstrap.min.css set `[hidden] { display: none !important; }` so we also need the `!important` here to be able to override the default hidden behavior on the sphinx rendered scikit-learn.org. See: https://github.com/scikit-learn/scikit-learn/issues/21755 */display: inline-block !important;position: relative;}#sk-container-id-1 div.sk-text-repr-fallback {display: none;}</style><div id=\"sk-container-id-1\" class=\"sk-top-container\"><div class=\"sk-text-repr-fallback\"><pre>SVC(C=10000000000.0, kernel=&#x27;linear&#x27;)</pre><b>In a Jupyter environment, please rerun this cell to show the HTML representation or trust the notebook. <br />On GitHub, the HTML representation is unable to render, please try loading this page with nbviewer.org.</b></div><div class=\"sk-container\" hidden><div class=\"sk-item\"><div class=\"sk-estimator sk-toggleable\"><input class=\"sk-toggleable__control sk-hidden--visually\" id=\"sk-estimator-id-1\" type=\"checkbox\" checked><label for=\"sk-estimator-id-1\" class=\"sk-toggleable__label sk-toggleable__label-arrow\">SVC</label><div class=\"sk-toggleable__content\"><pre>SVC(C=10000000000.0, kernel=&#x27;linear&#x27;)</pre></div></div></div></div></div>"
      ],
      "text/plain": [
       "SVC(C=10000000000.0, kernel='linear')"
      ]
     },
     "execution_count": 14,
     "metadata": {},
     "output_type": "execute_result"
    }
   ],
   "source": [
    "model.fit(X, y)"
   ]
  },
  {
   "cell_type": "markdown",
   "id": "3e1a0036-5e92-42c7-9e9e-ec90ae084eff",
   "metadata": {},
   "source": [
    "5. Apply the model to the test data (.predict)"
   ]
  },
  {
   "cell_type": "code",
   "execution_count": 15,
   "id": "75775e40-5b7c-4b76-bdab-aacf783ebd7e",
   "metadata": {},
   "outputs": [],
   "source": [
    "from sklearn import metrics \n",
    "y_pred = model.predict(X_test)"
   ]
  },
  {
   "cell_type": "markdown",
   "id": "ea4027d5-324c-4656-8a1f-44bb9ab094a5",
   "metadata": {},
   "source": [
    "6. Estimate performance (accuracy score)"
   ]
  },
  {
   "cell_type": "code",
   "execution_count": 16,
   "id": "ce25973f-5c50-4594-8c86-a0aea5d56c8e",
   "metadata": {},
   "outputs": [
    {
     "name": "stdout",
     "output_type": "stream",
     "text": [
      "1.0\n"
     ]
    }
   ],
   "source": [
    "print(metrics.accuracy_score(y_test, y_pred))"
   ]
  },
  {
   "cell_type": "markdown",
   "id": "155c6b66-0aa2-4668-8d74-58c2b397fab7",
   "metadata": {},
   "source": [
    "Get the margin from the `model` class:"
   ]
  },
  {
   "cell_type": "code",
   "execution_count": 17,
   "id": "3ad0654a-fcbe-45f7-ac59-dfe3c67b5546",
   "metadata": {},
   "outputs": [
    {
     "name": "stdout",
     "output_type": "stream",
     "text": [
      "Margin: 322.21258470484497\n"
     ]
    }
   ],
   "source": [
    "# Get the weight vector (coef_)\n",
    "w = model.coef_[0]\n",
    "\n",
    "# Calculate the norm of the weight vector\n",
    "w_norm = np.linalg.norm(w)\n",
    "\n",
    "# Calculate the margin\n",
    "margin = 1 / w_norm\n",
    "\n",
    "print(f\"Margin: {margin}\")"
   ]
  },
  {
   "cell_type": "markdown",
   "id": "7a8d6b1a-b887-4101-8b5a-0e3275f04e5e",
   "metadata": {},
   "source": [
    "### SVC(kernel='rbf')\n",
    "\n",
    "2. Select model and its parameters:"
   ]
  },
  {
   "cell_type": "code",
   "execution_count": 18,
   "id": "1dab5e76-eb4e-4a53-9a97-512d5ca3ccaa",
   "metadata": {},
   "outputs": [],
   "source": [
    "model = SVC(kernel='rbf', C=1E10)"
   ]
  },
  {
   "cell_type": "markdown",
   "id": "50cf2187-0dc8-455a-9e77-3620d8e35124",
   "metadata": {},
   "source": [
    "3. Build the model (.fit):"
   ]
  },
  {
   "cell_type": "code",
   "execution_count": 19,
   "id": "9bfb17bd-0fb0-4fa9-8761-1005006451f9",
   "metadata": {},
   "outputs": [
    {
     "data": {
      "text/html": [
       "<style>#sk-container-id-2 {color: black;background-color: white;}#sk-container-id-2 pre{padding: 0;}#sk-container-id-2 div.sk-toggleable {background-color: white;}#sk-container-id-2 label.sk-toggleable__label {cursor: pointer;display: block;width: 100%;margin-bottom: 0;padding: 0.3em;box-sizing: border-box;text-align: center;}#sk-container-id-2 label.sk-toggleable__label-arrow:before {content: \"▸\";float: left;margin-right: 0.25em;color: #696969;}#sk-container-id-2 label.sk-toggleable__label-arrow:hover:before {color: black;}#sk-container-id-2 div.sk-estimator:hover label.sk-toggleable__label-arrow:before {color: black;}#sk-container-id-2 div.sk-toggleable__content {max-height: 0;max-width: 0;overflow: hidden;text-align: left;background-color: #f0f8ff;}#sk-container-id-2 div.sk-toggleable__content pre {margin: 0.2em;color: black;border-radius: 0.25em;background-color: #f0f8ff;}#sk-container-id-2 input.sk-toggleable__control:checked~div.sk-toggleable__content {max-height: 200px;max-width: 100%;overflow: auto;}#sk-container-id-2 input.sk-toggleable__control:checked~label.sk-toggleable__label-arrow:before {content: \"▾\";}#sk-container-id-2 div.sk-estimator input.sk-toggleable__control:checked~label.sk-toggleable__label {background-color: #d4ebff;}#sk-container-id-2 div.sk-label input.sk-toggleable__control:checked~label.sk-toggleable__label {background-color: #d4ebff;}#sk-container-id-2 input.sk-hidden--visually {border: 0;clip: rect(1px 1px 1px 1px);clip: rect(1px, 1px, 1px, 1px);height: 1px;margin: -1px;overflow: hidden;padding: 0;position: absolute;width: 1px;}#sk-container-id-2 div.sk-estimator {font-family: monospace;background-color: #f0f8ff;border: 1px dotted black;border-radius: 0.25em;box-sizing: border-box;margin-bottom: 0.5em;}#sk-container-id-2 div.sk-estimator:hover {background-color: #d4ebff;}#sk-container-id-2 div.sk-parallel-item::after {content: \"\";width: 100%;border-bottom: 1px solid gray;flex-grow: 1;}#sk-container-id-2 div.sk-label:hover label.sk-toggleable__label {background-color: #d4ebff;}#sk-container-id-2 div.sk-serial::before {content: \"\";position: absolute;border-left: 1px solid gray;box-sizing: border-box;top: 0;bottom: 0;left: 50%;z-index: 0;}#sk-container-id-2 div.sk-serial {display: flex;flex-direction: column;align-items: center;background-color: white;padding-right: 0.2em;padding-left: 0.2em;position: relative;}#sk-container-id-2 div.sk-item {position: relative;z-index: 1;}#sk-container-id-2 div.sk-parallel {display: flex;align-items: stretch;justify-content: center;background-color: white;position: relative;}#sk-container-id-2 div.sk-item::before, #sk-container-id-2 div.sk-parallel-item::before {content: \"\";position: absolute;border-left: 1px solid gray;box-sizing: border-box;top: 0;bottom: 0;left: 50%;z-index: -1;}#sk-container-id-2 div.sk-parallel-item {display: flex;flex-direction: column;z-index: 1;position: relative;background-color: white;}#sk-container-id-2 div.sk-parallel-item:first-child::after {align-self: flex-end;width: 50%;}#sk-container-id-2 div.sk-parallel-item:last-child::after {align-self: flex-start;width: 50%;}#sk-container-id-2 div.sk-parallel-item:only-child::after {width: 0;}#sk-container-id-2 div.sk-dashed-wrapped {border: 1px dashed gray;margin: 0 0.4em 0.5em 0.4em;box-sizing: border-box;padding-bottom: 0.4em;background-color: white;}#sk-container-id-2 div.sk-label label {font-family: monospace;font-weight: bold;display: inline-block;line-height: 1.2em;}#sk-container-id-2 div.sk-label-container {text-align: center;}#sk-container-id-2 div.sk-container {/* jupyter's `normalize.less` sets `[hidden] { display: none; }` but bootstrap.min.css set `[hidden] { display: none !important; }` so we also need the `!important` here to be able to override the default hidden behavior on the sphinx rendered scikit-learn.org. See: https://github.com/scikit-learn/scikit-learn/issues/21755 */display: inline-block !important;position: relative;}#sk-container-id-2 div.sk-text-repr-fallback {display: none;}</style><div id=\"sk-container-id-2\" class=\"sk-top-container\"><div class=\"sk-text-repr-fallback\"><pre>SVC(C=10000000000.0)</pre><b>In a Jupyter environment, please rerun this cell to show the HTML representation or trust the notebook. <br />On GitHub, the HTML representation is unable to render, please try loading this page with nbviewer.org.</b></div><div class=\"sk-container\" hidden><div class=\"sk-item\"><div class=\"sk-estimator sk-toggleable\"><input class=\"sk-toggleable__control sk-hidden--visually\" id=\"sk-estimator-id-2\" type=\"checkbox\" checked><label for=\"sk-estimator-id-2\" class=\"sk-toggleable__label sk-toggleable__label-arrow\">SVC</label><div class=\"sk-toggleable__content\"><pre>SVC(C=10000000000.0)</pre></div></div></div></div></div>"
      ],
      "text/plain": [
       "SVC(C=10000000000.0)"
      ]
     },
     "execution_count": 19,
     "metadata": {},
     "output_type": "execute_result"
    }
   ],
   "source": [
    "model.fit(X, y)"
   ]
  },
  {
   "cell_type": "markdown",
   "id": "4b6777bc-a0e4-4da7-90d0-ea424e3be335",
   "metadata": {},
   "source": [
    "5. Apply the model to the test data (.predict)"
   ]
  },
  {
   "cell_type": "code",
   "execution_count": 20,
   "id": "b9c8d314-db70-4903-b43a-40be530eb0a5",
   "metadata": {},
   "outputs": [],
   "source": [
    "y_pred = model.predict(X_test)"
   ]
  },
  {
   "cell_type": "markdown",
   "id": "b711c428-7389-4f7d-ad6a-3405a803d28b",
   "metadata": {},
   "source": [
    "6. Estimate performance (accuracy score)"
   ]
  },
  {
   "cell_type": "code",
   "execution_count": 21,
   "id": "4e6ce63a-c097-4ac9-9b78-aeb49f0fbbf4",
   "metadata": {},
   "outputs": [
    {
     "name": "stdout",
     "output_type": "stream",
     "text": [
      "1.0\n"
     ]
    }
   ],
   "source": [
    "print(metrics.accuracy_score(y_test, y_pred))"
   ]
  },
  {
   "cell_type": "markdown",
   "id": "9903c166-45cc-4396-ab69-1f98400cb332",
   "metadata": {},
   "source": [
    "## Answers to questions\n",
    "\n",
    "**How does the maximum margin better generalize the SVM algorithm?**\n",
    "\n",
    "A maximum margin does two major things:\n",
    "\n",
    "1. Prevents the model from overfitting. If the maximum margin is large, this means that the model's decision boundary is less sensitive to small changes in the training data, which reduces model sensitivity.\n",
    "\n",
    "2. Maximizing the margin also helps the SVM from misclassifying data points that are far away from the decision boundary, leading to the model's ability to classify data points that would otherwise be misclassified if the SVM's decision boundary was smaller.\n"
   ]
  }
 ],
 "metadata": {
  "kernelspec": {
   "display_name": "Python 3 (ipykernel)",
   "language": "python",
   "name": "python3"
  },
  "language_info": {
   "codemirror_mode": {
    "name": "ipython",
    "version": 3
   },
   "file_extension": ".py",
   "mimetype": "text/x-python",
   "name": "python",
   "nbconvert_exporter": "python",
   "pygments_lexer": "ipython3",
   "version": "3.10.8"
  }
 },
 "nbformat": 4,
 "nbformat_minor": 5
}
