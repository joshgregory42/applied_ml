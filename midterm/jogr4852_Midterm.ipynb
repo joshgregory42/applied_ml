{
 "cells": [
  {
   "cell_type": "markdown",
   "id": "3c9f9a5a-df96-4a21-91bf-7fc032cd8d01",
   "metadata": {},
   "source": [
    "# Midterm -- Applied Machine Learning\n",
    "\n",
    "Josh Gregory"
   ]
  },
  {
   "cell_type": "markdown",
   "id": "b18c0ec9-fd5c-4da2-85f8-6d4fb57e4fd1",
   "metadata": {},
   "source": [
    "## Canvas Instructions\n",
    "\n",
    "Our primary goal is to minimize fraudulent credit card transactions.\n",
    "\n",
    "For the Midterm Exam, use the roadmap for building machine learning systems and the sklearn library. You are required to use the original unbalanced dataset (creditcard_small.csv) and the balanced dataset (which you will create). I have reduced the dataset from approximately 300,000 samples to 100,000 samples for efficiency (so you do not have to wait a long time during computation, no step should take more than a few minutes on https://coding.csel.ioLinks to an external site.) . For the same reason, use k = 5 for CV and do not perform pairwise plot. There are 28 anonymized features (V1 - V28). We don't need to understand the features. That is the beauty of ML! It will discern the pattern regardless of what the features mean. Class is a binary label indicating whether the transaction is genuine (0) or fraudulent (1). The features are already scaled, so you do not need to scale them. You are required to  train the 3 algorithms (DT, kNN, SVM) that we have studied in this class. So, in essence you will be performing 6 training runs (2 datasets X 3 algorithms) \n",
    "\n",
    "Perform steps 1- 3 of EDA:\n",
    "\n",
    "1. Performing preliminary checks, creating balanced dataset, identifying and rectifying outliers, missing values and statistics, and creating correlation matrices. [10]\n",
    "\n",
    "Perform steps 1- 6 of training and testing of 3 algorithms with the 2 datasets:\n",
    "\n",
    "2. Unbalanced dataset and DT. [10]\n",
    "\n",
    "3. Unbalanced dataset and kNN. [10]\n",
    "\n",
    "4. Unbalanced dataset and SVM. [10]\n",
    "\n",
    "5. Balanced dataset and DT. [10]\n",
    "\n",
    "6. Balanced dataset and kNN. [10]\n",
    "\n",
    "7. Balanced dataset and SVM. [10]\n",
    "\n",
    "Each of these training testing runs must produce a report similar to:"
   ]
  }
 ],
 "metadata": {
  "kernelspec": {
   "display_name": "Python 3 (ipykernel)",
   "language": "python",
   "name": "python3"
  },
  "language_info": {
   "codemirror_mode": {
    "name": "ipython",
    "version": 3
   },
   "file_extension": ".py",
   "mimetype": "text/x-python",
   "name": "python",
   "nbconvert_exporter": "python",
   "pygments_lexer": "ipython3",
   "version": "3.10.8"
  }
 },
 "nbformat": 4,
 "nbformat_minor": 5
}
